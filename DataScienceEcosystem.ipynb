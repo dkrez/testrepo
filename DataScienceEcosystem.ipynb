{
 "cells": [
  {
   "cell_type": "markdown",
   "id": "d7b2a9f1-1c61-4826-b5c1-77d3355eb810",
   "metadata": {},
   "source": [
    "# Data Science Tools and Ecosystem"
   ]
  },
  {
   "cell_type": "markdown",
   "id": "fbb33301-42ec-42f8-9fa9-3b0a38bdf66c",
   "metadata": {},
   "source": [
    "**In this notebook, Data Science Tools and Ecosystem are summerized.**"
   ]
  },
  {
   "cell_type": "markdown",
   "id": "604da84e-acaf-40c0-8a22-51876e41a328",
   "metadata": {},
   "source": [
    "**Objectives:**\n",
    "- List of popular languages for Data Science\n",
    "- List of commonly used libraries for Data Science\n",
    "- Table of data science tools for Data Science\n"
   ]
  },
  {
   "cell_type": "markdown",
   "id": "5ace8a3e-1f08-4e73-99cd-05118aef5375",
   "metadata": {},
   "source": [
    "##### Some of the popular languages that Data Scientists use are:\n",
    "1. Python\n",
    "2. R\n",
    "3. SQL"
   ]
  },
  {
   "cell_type": "markdown",
   "id": "24ebcd1b-eaea-40bf-a428-9adc0058c8a1",
   "metadata": {},
   "source": [
    "##### Some of the commonly used libraries used by Data Scientists include:\n",
    "1. Pandas\n",
    "2. NumPy\n",
    "3. Lattice"
   ]
  },
  {
   "cell_type": "markdown",
   "id": "616e6a6a-3dc9-4f14-87f6-e2347bea343d",
   "metadata": {},
   "source": [
    "|Data Science Tools|\n",
    "|------|\n",
    "|Jupyter|\n",
    "|RStudio|\n",
    "|Spyder|"
   ]
  },
  {
   "cell_type": "markdown",
   "id": "551840b8-ac9a-47a2-8c81-b1f6f53b02e9",
   "metadata": {},
   "source": [
    "### Below are a few examples of evaluating arithmetic expressions in Python"
   ]
  },
  {
   "cell_type": "markdown",
   "id": "998a91ac-e91b-4fff-becb-1d53de806e9e",
   "metadata": {},
   "source": [
    "*This is a simple arithmitic expression to multiply then add integers*"
   ]
  },
  {
   "cell_type": "code",
   "execution_count": 15,
   "id": "b4c7bfb6-ca9d-4dc7-a793-aa375c697750",
   "metadata": {
    "tags": []
   },
   "outputs": [
    {
     "data": {
      "text/plain": [
       "17"
      ]
     },
     "execution_count": 15,
     "metadata": {},
     "output_type": "execute_result"
    }
   ],
   "source": [
    "(3*4)+5"
   ]
  },
  {
   "cell_type": "markdown",
   "id": "1601f91a-69a9-4130-8652-d72f7f77d6d0",
   "metadata": {},
   "source": [
    "*This will convert 200 minutes to hours by dividing by 60*"
   ]
  },
  {
   "cell_type": "code",
   "execution_count": 25,
   "id": "4982f8ba-4720-420c-bd4d-d216911758aa",
   "metadata": {
    "tags": []
   },
   "outputs": [
    {
     "name": "stdout",
     "output_type": "stream",
     "text": [
      "3.3333333333333335\n"
     ]
    }
   ],
   "source": [
    "def minutestohours (minutes):\n",
    "    return minutes / 60\n",
    "minutes = 200\n",
    "hours = minutestohours(minutes)\n",
    "print(hours)"
   ]
  },
  {
   "cell_type": "markdown",
   "id": "20305112-5dc8-4eaf-892e-39dc5bd13a0a",
   "metadata": {},
   "source": [
    "## Author\n",
    "Deana Kinder"
   ]
  },
  {
   "cell_type": "code",
   "execution_count": null,
   "id": "9a0f7871-06b2-41d7-bad8-3df532deec66",
   "metadata": {},
   "outputs": [],
   "source": []
  }
 ],
 "metadata": {
  "kernelspec": {
   "display_name": "Python 3 (ipykernel)",
   "language": "python",
   "name": "python3"
  },
  "language_info": {
   "codemirror_mode": {
    "name": "ipython",
    "version": 3
   },
   "file_extension": ".py",
   "mimetype": "text/x-python",
   "name": "python",
   "nbconvert_exporter": "python",
   "pygments_lexer": "ipython3",
   "version": "3.11.7"
  }
 },
 "nbformat": 4,
 "nbformat_minor": 5
}
